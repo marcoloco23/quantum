{
 "cells": [
  {
   "cell_type": "code",
   "execution_count": 32,
   "metadata": {},
   "outputs": [],
   "source": [
    "import numpy as np\n",
    "from toqito.channels import partial_trace\n",
    "from scipy.integrate import odeint"
   ]
  },
  {
   "cell_type": "markdown",
   "metadata": {},
   "source": [
    "Global State"
   ]
  },
  {
   "cell_type": "code",
   "execution_count": 33,
   "metadata": {},
   "outputs": [],
   "source": [
    "# Define constants and initial conditions\n",
    "alpha = 1.0\n",
    "beta = 1.0\n",
    "gamma = 0.0\n",
    "delta = 1.0\n",
    "\n",
    "# Define the density matrix.\n",
    "rho = np.array(\n",
    "    [\n",
    "        [abs(alpha)**2, alpha*np.conj(beta), alpha*np.conj(gamma), alpha*np.conj(delta)],\n",
    "        [beta*np.conj(alpha), abs(beta)**2, beta*np.conj(gamma), beta*np.conj(delta)],\n",
    "        [gamma*np.conj(alpha), gamma*np.conj(beta), abs(gamma)**2, gamma*np.conj(delta)],\n",
    "        [delta*np.conj(alpha), delta*np.conj(beta), delta*np.conj(gamma), abs(delta)**2]\n",
    "                 ]\n",
    ")\n",
    "\n",
    "# Pauli matrices\n",
    "sigma_x = np.array([[0, 1], [1, 0]])\n",
    "sigma_y = np.array([[0, -1j], [1j, 0]])\n",
    "sigma_z = np.array([[1, 0], [0, -1]])\n",
    "\n",
    "# Coupling constant\n",
    "g = 1\n",
    "\n",
    "# Define the Hamiltonian\n",
    "H = np.kron(sigma_z, np.identity(2)) + np.kron(np.identity(2), sigma_z) + g * np.kron(sigma_x, sigma_x)"
   ]
  },
  {
   "cell_type": "markdown",
   "metadata": {},
   "source": [
    "Observer State"
   ]
  },
  {
   "cell_type": "code",
   "execution_count": 45,
   "metadata": {},
   "outputs": [],
   "source": [
    "# Compute the reduced density matrix.\n",
    "rho_reduced = partial_trace(rho)\n",
    "\n",
    "# Compute effective Hamiltonian (TODO)\n",
    "H_eff = sigma_z + g * sigma_x\n",
    "\n",
    "# Compute the commutator\n",
    "commutator = np.matmul(H_eff, rho_reduced) - np.matmul(rho_reduced, H_eff)\n",
    "\n",
    "# Use Liouvill Von Neumann equation to compute the time derivative of the density matrix\n",
    "rho_dot = -1j * commutator"
   ]
  },
  {
   "cell_type": "code",
   "execution_count": 4,
   "metadata": {},
   "outputs": [
    {
     "name": "stdout",
     "output_type": "stream",
     "text": [
      "Entropy: 0.5292922700348979\n"
     ]
    }
   ],
   "source": [
    "import numpy as np\n",
    "import cmath\n",
    "\n",
    "def calculate_entropy(alpha, beta, gamma, delta):\n",
    "    # Calculate terms for D'\n",
    "    term1 = np.abs(alpha)**2 + np.abs(beta)**2 + np.abs(gamma)**2 + np.abs(delta)**2\n",
    "    term2 = np.abs(alpha)**2 * np.abs(gamma)**2 + np.abs(alpha)**2 * np.abs(delta)**2 + np.abs(beta)**2 * np.abs(gamma)**2 + np.abs(beta)**2 * np.abs(delta)**2\n",
    "    Z = alpha * np.conj(gamma) - beta * np.conj(delta)\n",
    "    term3 = np.abs(Z)**2 + Z * np.conj(beta * delta) + np.conj(Z) * beta * np.conj(delta) + np.abs(beta * np.conj(delta))**2\n",
    "    \n",
    "    # Calculate D'\n",
    "    D_prime = term1**2 - 4 * (term2 - term3)\n",
    "    \n",
    "    # Calculate eigenvalues\n",
    "    lambda_1 = 0.5 * (term1 + cmath.sqrt(D_prime))\n",
    "    lambda_2 = 0.5 * (term1 - cmath.sqrt(D_prime))\n",
    "    \n",
    "    # Calculate entropy\n",
    "    S = - lambda_1 * cmath.log(lambda_1) - lambda_2 * cmath.log(lambda_2)\n",
    "    \n",
    "    return S.real\n",
    "\n",
    "# Example usage\n",
    "alpha = 0.5\n",
    "beta = 0.5\n",
    "gamma = 0.5\n",
    "delta = 0.2\n",
    "\n",
    "entropy = calculate_entropy(alpha, beta, gamma, delta)\n",
    "print(f\"Entropy: {entropy}\")\n"
   ]
  },
  {
   "cell_type": "code",
   "execution_count": 2,
   "metadata": {},
   "outputs": [
    {
     "data": {
      "image/png": "[encoded data removed]",
      "text/plain": [
       "<Figure size 432x288 with 2 Axes>"
      ]
     },
     "metadata": {
      "needs_background": "light"
     },
     "output_type": "display_data"
    }
   ],
   "source": [
    "import numpy as np\n",
    "import cmath\n",
    "import matplotlib.pyplot as plt\n",
    "\n",
    "# Function to calculate entropy\n",
    "def calculate_entropy(alpha, beta, gamma, delta):\n",
    "    term1 = np.abs(alpha)**2 + np.abs(beta)**2 + np.abs(gamma)**2 + np.abs(delta)**2\n",
    "    term2 = np.abs(alpha)**2 * np.abs(gamma)**2 + np.abs(alpha)**2 * np.abs(delta)**2 + np.abs(beta)**2 * np.abs(gamma)**2 + np.abs(beta)**2 * np.abs(delta)**2\n",
    "    Z = alpha * np.conj(gamma) - beta * np.conj(delta)\n",
    "    term3 = np.abs(Z)**2 + Z * np.conj(beta * delta) + np.conj(Z) * beta * np.conj(delta) + np.abs(beta * np.conj(delta))**2\n",
    "    D_prime = term1**2 - 4 * (term2 - term3)\n",
    "    lambda_1 = 0.5 * (term1 + cmath.sqrt(D_prime))\n",
    "    lambda_2 = 0.5 * (term1 - cmath.sqrt(D_prime))\n",
    "    S = - lambda_1 * cmath.log(lambda_1) - lambda_2 * cmath.log(lambda_2)\n",
    "    return S.real\n",
    "\n",
    "# Parameter sweep\n",
    "alphas = np.linspace(0.1, 1, 10)\n",
    "betas = np.linspace(0.1, 1, 10)\n",
    "gammas = np.linspace(0.1, 1, 10)\n",
    "deltas = np.linspace(0.1, 1, 10)\n",
    "\n",
    "S_values = np.zeros((10, 10, 10, 10))\n",
    "\n",
    "for i, alpha in enumerate(alphas):\n",
    "    for j, beta in enumerate(betas):\n",
    "        for k, gamma in enumerate(gammas):\n",
    "            for l, delta in enumerate(deltas):\n",
    "                S_values[i, j, k, l] = calculate_entropy(alpha, beta, gamma, delta)\n",
    "\n",
    "# Simple 2D plot for a slice of parameters\n",
    "plt.imshow(S_values[:, :, 0, 0], extent=[0.1, 1, 0.1, 1], origin='lower', aspect='auto', cmap='viridis')\n",
    "plt.colorbar(label='Entropy S')\n",
    "plt.title(\"Entropy Landscape\")\n",
    "plt.xlabel(\"Alpha\")\n",
    "plt.ylabel(\"Beta\")\n",
    "plt.show()\n"
   ]
  },
  {
   "cell_type": "code",
   "execution_count": 7,
   "metadata": {},
   "outputs": [
    {
     "data": {
      "image/png": "[encoded data removed]",
      "text/plain": [
       "<Figure size 432x288 with 2 Axes>"
      ]
     },
     "metadata": {
      "needs_background": "light"
     },
     "output_type": "display_data"
    }
   ],
   "source": [
    "import numpy as np\n",
    "import cmath\n",
    "import matplotlib.pyplot as plt\n",
    "\n",
    "# Function to check commutator condition\n",
    "def check_commutator(alpha, beta, gamma, delta):\n",
    "    return np.isclose(\n",
    "        gamma * np.conj(alpha) - alpha * np.conj(gamma) + delta * np.conj(beta) - beta * np.conj(delta),\n",
    "        0.1\n",
    "    )\n",
    "\n",
    "# Parameter sweep\n",
    "alphas = np.linspace(0.1, 1, 20)\n",
    "betas = np.linspace(0.1, 1, 20)\n",
    "\n",
    "commutator_points = []\n",
    "\n",
    "for i, alpha in enumerate(alphas):\n",
    "    for j, beta in enumerate(betas):\n",
    "        gamma, delta = 0.5, 0.2  # fixed for simplicity\n",
    "        if check_commutator(alpha, beta, gamma, delta):\n",
    "            commutator_points.append((alpha, beta))\n",
    "\n",
    "# Simple 2D plot\n",
    "plt.imshow(S_values[:, :, 0, 0], extent=[0.1, 1, 0.1, 1], origin='lower', aspect='auto', cmap='viridis')\n",
    "plt.colorbar(label='Entropy S')\n",
    "plt.title(\"Entropy Landscape with Commutator=0 Points\")\n",
    "\n",
    "# Highlight points where commutator is zero\n",
    "for point in commutator_points:\n",
    "    plt.scatter(*point, color='red')\n",
    "\n",
    "plt.xlabel(\"Alpha\")\n",
    "plt.ylabel(\"Beta\")\n",
    "plt.show()\n"
   ]
  },
  {
   "cell_type": "code",
   "execution_count": null,
   "metadata": {},
   "outputs": [],
   "source": []
  }
 ],
 "metadata": {
  "kernelspec": {
   "display_name": "main",
   "language": "python",
   "name": "python3"
  },
  "language_info": {
   "codemirror_mode": {
    "name": "ipython",
    "version": 3
   },
   "file_extension": ".py",
   "mimetype": "text/x-python",
   "name": "python",
   "nbconvert_exporter": "python",
   "pygments_lexer": "ipython3",
   "version": "3.9.2"
  },
  "orig_nbformat": 4
 },
 "nbformat": 4,
 "nbformat_minor": 2
}
