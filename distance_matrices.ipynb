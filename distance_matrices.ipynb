{
 "cells": [
  {
   "cell_type": "code",
   "execution_count": 34,
   "metadata": {},
   "outputs": [],
   "source": [
    "import numpy as np\n",
    "import concurrent.futures\n",
    "from sklearn.decomposition import PCA\n",
    "from sklearn.manifold import MDS\n",
    "import matplotlib.pyplot as plt\n",
    "import seaborn as sns\n",
    "from itertools import combinations"
   ]
  },
  {
   "cell_type": "code",
   "execution_count": 192,
   "metadata": {},
   "outputs": [],
   "source": [
    "def find_divisors(n: int) -> list:\n",
    "    \"\"\" Find all divisors of a given integer n. \"\"\"\n",
    "    divisors = set()\n",
    "    for i in range(2, int(n ** 0.5) + 1):\n",
    "        if n % i == 0:\n",
    "            divisors.add(i)\n",
    "            divisors.add(n // i)\n",
    "    return sorted(divisors)\n",
    "\n",
    "def find_factorizations(n: int) -> list:\n",
    "    \"\"\" Find all possible factorizations of an integer n. \"\"\"\n",
    "    divisors = find_divisors(n)\n",
    "    factorizations = set()\n",
    "\n",
    "    # Function to recursively find combinations of divisors\n",
    "    def find_combinations(remaining, current_combination):\n",
    "        if remaining == 1:\n",
    "            factorizations.add(tuple(sorted(current_combination)))\n",
    "            return\n",
    "        for divisor in divisors:\n",
    "            if remaining % divisor == 0:\n",
    "                find_combinations(remaining // divisor, current_combination + (divisor,))\n",
    "\n",
    "    find_combinations(n, ())\n",
    "    return sorted(factorizations)\n",
    "\n",
    "def plot_heatmap(D: np.array) -> None:\n",
    "    # Visualization using a heatmap\n",
    "    plt.figure(figsize=(10, 8))\n",
    "    sns.heatmap(D, annot=True, cmap='viridis', square=True)\n",
    "    plt.title(\"Distance Matrix Heatmap\")\n",
    "    plt.xlabel(\"Subsystems\")\n",
    "    plt.ylabel(\"Subsystems\")\n",
    "    plt.show()\n",
    "\n",
    "def determinant(matrix: np.array) -> float:\n",
    "    return np.linalg.det(matrix)\n",
    "\n",
    "def eigenvalues(matrix: np.array) -> np.array:\n",
    "    return np.linalg.eigvalsh(matrix)\n",
    "\n",
    "def compute_reduced_density_matrix(rho: np.array, subsystem: int, dimensions: list[int]) -> np.array:\n",
    "    \"\"\" Compute the reduced density matrix for a given subsystem. \"\"\"\n",
    "    total_dim = np.prod(dimensions)\n",
    "    assert rho.shape == (total_dim, total_dim), \"Invalid density matrix shape.\"\n",
    "    \n",
    "    subsys_dim = dimensions[subsystem]\n",
    "    other_dims = int(total_dim / subsys_dim)\n",
    "    \n",
    "    # Reshape and trace out other subsystems\n",
    "    rho_reshaped = rho.reshape([subsys_dim, other_dims, subsys_dim, other_dims])\n",
    "    rho_reduced = np.trace(rho_reshaped, axis1=1, axis2=3)\n",
    "    return rho_reduced\n",
    "\n",
    "def entanglement_entropy(rho: np.array) -> float:\n",
    "    \"\"\" Compute the von Neumann entropy of a density matrix. \"\"\"\n",
    "    eigenvalues = np.linalg.eigvalsh(rho)\n",
    "    # Avoiding log(0) issue by adding a small constant\n",
    "    entropy = -np.sum(eigenvalues * np.log2(eigenvalues + 1e-10))\n",
    "    return entropy\n",
    "\n",
    "def generate_random_density_matrix(dim: int) -> np.array:\n",
    "    \"\"\" Generate a random valid density matrix of dimension dim. \"\"\"\n",
    "    # Create a random Hermitian matrix\n",
    "    A = np.random.rand(dim, dim) + 1j * np.random.rand(dim, dim)\n",
    "    A = A + A.conj().T  # Make A Hermitian\n",
    "    # Make A positive semi-definite and normalize its trace\n",
    "    rho = A @ A.conj().T\n",
    "    rho /= np.trace(rho)\n",
    "    return rho"
   ]
  },
  {
   "cell_type": "code",
   "execution_count": 165,
   "metadata": {},
   "outputs": [
    {
     "data": {
      "image/png": "[encoded data removed]",
      "text/plain": [
       "<Figure size 432x288 with 1 Axes>"
      ]
     },
     "metadata": {
      "needs_background": "light"
     },
     "output_type": "display_data"
    },
    {
     "name": "stdout",
     "output_type": "stream",
     "text": [
      "MDS Stress Value: 0.03100016665765589\n"
     ]
    }
   ],
   "source": [
    "# --- Multidimensional Scaling ---\n",
    "mds = MDS(n_components=2, dissimilarity=\"precomputed\", random_state=42)\n",
    "mds_coords = mds.fit_transform(D)  # Transform D to a 2D space for visualization\n",
    "stress_value = mds.stress_  # Stress value can help determine the fit quality\n",
    "\n",
    "# Visualizing the MDS result\n",
    "plt.scatter(mds_coords[:, 0], mds_coords[:, 1])\n",
    "plt.title('MDS Visualization')\n",
    "plt.xlabel('MDS Dimension 1')\n",
    "plt.ylabel('MDS Dimension 2')\n",
    "plt.show()\n",
    "\n",
    "print(f\"MDS Stress Value: {stress_value}\")"
   ]
  },
  {
   "cell_type": "code",
   "execution_count": 118,
   "metadata": {},
   "outputs": [
    {
     "name": "stdout",
     "output_type": "stream",
     "text": [
      "Number of Significant Eigenvalues: 1\n"
     ]
    }
   ],
   "source": [
    "# --- Eigenvalue Analysis ---\n",
    "# Eigenvalue decomposition of the distance matrix\n",
    "eigenvalues, _ = np.linalg.eigh(D)\n",
    "\n",
    "# Counting significant eigenvalues (with a threshold, e.g., 0.1)\n",
    "threshold = 0.1\n",
    "significant_eigenvalues = sum(eig > threshold for eig in eigenvalues)\n",
    "\n",
    "print(f\"Number of Significant Eigenvalues: {significant_eigenvalues}\")"
   ]
  },
  {
   "cell_type": "code",
   "execution_count": 119,
   "metadata": {},
   "outputs": [
    {
     "name": "stdout",
     "output_type": "stream",
     "text": [
      "PCA Dimensionality: 5\n",
      "MDS Eigenvalues/Stress: 0.09765773248228156\n"
     ]
    }
   ],
   "source": [
    "# Apply Principal Component Analysis (PCA)\n",
    "pca = PCA(n_components=D.shape[0])\n",
    "pca.fit(D)\n",
    "explained_var = pca.explained_variance_ratio_\n",
    "\n",
    "# Determine the number of components needed to explain significant variance\n",
    "n_components_pca = sum(var > 0.01 for var in explained_var)  # Threshold can be adjusted\n",
    "\n",
    "# Apply Multidimensional Scaling (MDS)\n",
    "mds = MDS(n_components=D.shape[0], dissimilarity=\"precomputed\")\n",
    "mds_coords = mds.fit_transform(D)\n",
    "\n",
    "# Analyze the eigenvalues (or stress) from MDS for dimensionality\n",
    "eigenvalues_mds = mds.stress_  # This gives a measure of how well the MDS fit the data\n",
    "\n",
    "print(f\"PCA Dimensionality: {n_components_pca}\")\n",
    "print(f\"MDS Eigenvalues/Stress: {eigenvalues_mds}\")\n"
   ]
  },
  {
   "cell_type": "code",
   "execution_count": null,
   "metadata": {},
   "outputs": [],
   "source": []
  }
 ],
 "metadata": {
  "kernelspec": {
   "display_name": "main",
   "language": "python",
   "name": "python3"
  },
  "language_info": {
   "codemirror_mode": {
    "name": "ipython",
    "version": 3
   },
   "file_extension": ".py",
   "mimetype": "text/x-python",
   "name": "python",
   "nbconvert_exporter": "python",
   "pygments_lexer": "ipython3",
   "version": "3.9.12"
  }
 },
 "nbformat": 4,
 "nbformat_minor": 2
}
